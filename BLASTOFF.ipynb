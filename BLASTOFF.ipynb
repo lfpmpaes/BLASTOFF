{
  "nbformat": 4,
  "nbformat_minor": 0,
  "metadata": {
    "colab": {
      "name": "BLASTOFF",
      "provenance": [],
      "collapsed_sections": []
    },
    "kernelspec": {
      "name": "python3",
      "display_name": "Python 3"
    },
    "language_info": {
      "name": "python"
    }
  },
  "cells": [
    {
      "cell_type": "code",
      "metadata": {
        "colab": {
          "base_uri": "https://localhost:8080/"
        },
        "id": "hUZxpAi68mBG",
        "outputId": "c093e6f5-1fd8-4459-b071-eb6e1ef8c817"
      },
      "source": [
        "#exercicio 1\n",
        "def MédiaDasIdades(lista):\n",
        "  i = 0\n",
        "  aux = 0\n",
        "  while(i<len(lista)):\n",
        "    aux = aux + lista[i]\n",
        "    i = i + 1\n",
        "  aux = aux/len(lista)\n",
        "  print (aux)\n",
        "\n",
        "lista = [18, 25, 35, 19, 43]\n",
        "media = MédiaDasIdades(lista)\n",
        "\n"
      ],
      "execution_count": 70,
      "outputs": [
        {
          "output_type": "stream",
          "name": "stdout",
          "text": [
            "28.0\n"
          ]
        }
      ]
    },
    {
      "cell_type": "code",
      "metadata": {
        "colab": {
          "base_uri": "https://localhost:8080/"
        },
        "id": "qDTmFZtIACiU",
        "outputId": "5eefd1b6-6a36-42ae-9f9f-d24fd5d8bc8a"
      },
      "source": [
        "#exercicio 2\n",
        "def ConsumoMedio(A, B):\n",
        "  print (B/A, \"Litros/Km\")\n",
        "\n",
        "distancia = 30\n",
        "gasto = 8\n",
        "consumo = ConsumoMedio(distancia,gasto)"
      ],
      "execution_count": 71,
      "outputs": [
        {
          "output_type": "stream",
          "name": "stdout",
          "text": [
            "0.26666666666666666 Litros/Km\n"
          ]
        }
      ]
    },
    {
      "cell_type": "code",
      "metadata": {
        "colab": {
          "base_uri": "https://localhost:8080/"
        },
        "id": "ceqpK7XfPoN8",
        "outputId": "ef9e95c6-aad1-45d2-e762-96ab892a67eb"
      },
      "source": [
        "#exercicio 3\n",
        "def MenorNumero(A, B, C):\n",
        "  if (A < B):\n",
        "    menorNum = A\n",
        "    if (C < A):\n",
        "      menorNum = C\n",
        "  elif (B < C):\n",
        "    menorNum = B\n",
        "  else: menorNum = C\n",
        "  return menorNum\n",
        "print (MenorNumero(-8, -19, -4))  "
      ],
      "execution_count": 72,
      "outputs": [
        {
          "output_type": "stream",
          "name": "stdout",
          "text": [
            "-19\n"
          ]
        }
      ]
    },
    {
      "cell_type": "code",
      "metadata": {
        "colab": {
          "base_uri": "https://localhost:8080/"
        },
        "id": "b1D0MU4HSpt4",
        "outputId": "f0a272a7-9d6d-4220-be3e-7eeeba7886fd"
      },
      "source": [
        "#exercicio 4\n",
        "def ConverteTemperatura(C):\n",
        "  F = (9*C + 160)/5\n",
        "  return F\n",
        "\n",
        "print (ConverteTemperatura(40))"
      ],
      "execution_count": 73,
      "outputs": [
        {
          "output_type": "stream",
          "name": "stdout",
          "text": [
            "104.0\n"
          ]
        }
      ]
    },
    {
      "cell_type": "code",
      "metadata": {
        "colab": {
          "base_uri": "https://localhost:8080/"
        },
        "id": "6zdMcMyPamW9",
        "outputId": "a525d949-df22-4b20-8c91-4f74eb9feda3"
      },
      "source": [
        "#exercicio 5\n",
        "def SaoMultiplos(A, B):\n",
        "  if (A > B):\n",
        "    if (A%B == 0):\n",
        "      return (\"Sao multiplos\")\n",
        "    else:\n",
        "      return (\"Nao sao multiplos\")\n",
        "  else:\n",
        "    if (B%A == 0):\n",
        "      return (\"Sao multiplos\")\n",
        "    else:\n",
        "      return (\"Nao sao multiplos\")\n",
        "\n",
        "print (SaoMultiplos(3, 337))"
      ],
      "execution_count": 74,
      "outputs": [
        {
          "output_type": "stream",
          "name": "stdout",
          "text": [
            "Nao sao multiplos\n"
          ]
        }
      ]
    },
    {
      "cell_type": "code",
      "metadata": {
        "id": "LIBUZcmEcN7e"
      },
      "source": [
        "#exercicio 6\n",
        "def TempoDeDuracao(A, B):\n",
        "  return B-A"
      ],
      "execution_count": 87,
      "outputs": []
    },
    {
      "cell_type": "code",
      "metadata": {
        "colab": {
          "base_uri": "https://localhost:8080/"
        },
        "id": "8MZfrEEQVbY6",
        "outputId": "fda45b35-5a6b-47ac-f6fa-c029eec9e065"
      },
      "source": [
        "#exercicio 7\n",
        "def RetornaSePar(lista):\n",
        "  i = 0\n",
        "  pares = []\n",
        "  while(i<len(lista)):\n",
        "    n = lista[i]\n",
        "    if (n%2 == 0):\n",
        "      pares.append(n)\n",
        "    i = i + 1\n",
        "  return pares\n",
        "lista = [1, 2, 3, 4, 65, 298, 348]\n",
        "print (RetornaSePar(lista))\n"
      ],
      "execution_count": 76,
      "outputs": [
        {
          "output_type": "stream",
          "name": "stdout",
          "text": [
            "[2, 4, 298, 348]\n"
          ]
        }
      ]
    },
    {
      "cell_type": "code",
      "metadata": {
        "colab": {
          "base_uri": "https://localhost:8080/"
        },
        "id": "qh2jjTEgfsfk",
        "outputId": "ccb064f3-90e2-46f2-a394-7007904cdefd"
      },
      "source": [
        "#exercicio 8\n",
        "def EPrimo(num):\n",
        "  if (num==1):\n",
        "    return (\"Não é primo\")\n",
        "  i = 1\n",
        "  aux = 0\n",
        "  while(i<num):\n",
        "    if(num%i == 0):\n",
        "      aux = aux + 1\n",
        "      if (aux>2):\n",
        "        return (\"Não é primo\")\n",
        "    i = i + 1\n",
        "  return (\"É primo\")\n",
        "print (EPrimo(1))"
      ],
      "execution_count": 77,
      "outputs": [
        {
          "output_type": "stream",
          "name": "stdout",
          "text": [
            "Não é primo\n"
          ]
        }
      ]
    },
    {
      "cell_type": "code",
      "metadata": {
        "colab": {
          "base_uri": "https://localhost:8080/"
        },
        "id": "SHPoECnFhwBS",
        "outputId": "e48104ba-24f9-4114-e48c-fbf0ea89d69f"
      },
      "source": [
        "#exercicio 9\n",
        "def Tabuada(num):\n",
        "  lista = []\n",
        "  i = 0\n",
        "  while(i<11):\n",
        "    aux = 0\n",
        "    aux = i*num\n",
        "    lista.append(aux)\n",
        "    i = i + 1\n",
        "  return lista\n",
        "print (Tabuada(8))"
      ],
      "execution_count": 78,
      "outputs": [
        {
          "output_type": "stream",
          "name": "stdout",
          "text": [
            "[0, 8, 16, 24, 32, 40, 48, 56, 64, 72, 80]\n"
          ]
        }
      ]
    },
    {
      "cell_type": "code",
      "metadata": {
        "colab": {
          "base_uri": "https://localhost:8080/"
        },
        "id": "eTYkL6DzT2iS",
        "outputId": "be871624-8e94-4f8b-ab42-bc5f36475a77"
      },
      "source": [
        "#exercicio 10\n",
        "def Fatorial(n):\n",
        "    m = 1 \n",
        "    while n >= 1:\n",
        "        m = m*n \n",
        "        n = n-1 \n",
        "    return m\n",
        "print(Fatorial(8))"
      ],
      "execution_count": 79,
      "outputs": [
        {
          "output_type": "stream",
          "name": "stdout",
          "text": [
            "40320\n"
          ]
        }
      ]
    },
    {
      "cell_type": "code",
      "metadata": {
        "colab": {
          "base_uri": "https://localhost:8080/"
        },
        "id": "PZ0s6n_ClPn9",
        "outputId": "5b39dca0-26c9-4b0d-bca0-601e14786dd7"
      },
      "source": [
        "#exercicio 11\n",
        "def intersecção(listaA, listaB):\n",
        "  listainter = []\n",
        "  for i in range(0, len(listaA)):\n",
        "    for j in range(0, len(listaB)):\n",
        "      if (listaA[i]==listaB[j]):\n",
        "        listainter.append(listaB[j])\n",
        "  return listainter\n",
        "\n",
        "listaA = [1, 2, 3, 4, 5]\n",
        "listaB = [2, 3, 4]\n",
        "print(intersecção(listaA, listaB))"
      ],
      "execution_count": 80,
      "outputs": [
        {
          "output_type": "stream",
          "name": "stdout",
          "text": [
            "[2, 3, 4]\n"
          ]
        }
      ]
    },
    {
      "cell_type": "code",
      "metadata": {
        "colab": {
          "base_uri": "https://localhost:8080/"
        },
        "id": "DgrroJW-oa45",
        "outputId": "727065e2-2868-47fc-df80-78615fc35783"
      },
      "source": [
        "#exercicio 12\n",
        "def Concatenação(listaA, listaB):\n",
        "  for i in range(0, len(listaB)):\n",
        "        listaA.append(listaB[i])\n",
        "  return listaA\n",
        "\n",
        "listaA = [1,2,3,4]\n",
        "listaB = [1,2,5,8]\n",
        "print(Concatenação(listaA, listaB))"
      ],
      "execution_count": 81,
      "outputs": [
        {
          "output_type": "stream",
          "name": "stdout",
          "text": [
            "[1, 2, 3, 4, 1, 2, 5, 8]\n"
          ]
        }
      ]
    },
    {
      "cell_type": "code",
      "metadata": {
        "colab": {
          "base_uri": "https://localhost:8080/"
        },
        "id": "afxCUP1oq9J0",
        "outputId": "648b67ee-1ca5-43b3-db16-ddef9748cbb3"
      },
      "source": [
        "#exercicio 13\n",
        "def Matriz(matriz):\n",
        "  for i in range(0, len(matriz)):\n",
        "    for j in range(0, len(matriz)):\n",
        "      print(matriz[i][j])\n",
        "matriz = [[11, -3, 4, 8], [-3, 12, 6, 11], [4, 6, 5, 13], [8, 11, 13, 5]]\n",
        "Matriz(matriz)"
      ],
      "execution_count": 85,
      "outputs": [
        {
          "output_type": "stream",
          "name": "stdout",
          "text": [
            "11\n",
            "-3\n",
            "4\n",
            "8\n",
            "-3\n",
            "12\n",
            "6\n",
            "11\n",
            "4\n",
            "6\n",
            "5\n",
            "13\n",
            "8\n",
            "11\n",
            "13\n",
            "5\n"
          ]
        }
      ]
    },
    {
      "cell_type": "code",
      "metadata": {
        "colab": {
          "base_uri": "https://localhost:8080/"
        },
        "id": "V0BCuyWVwblu",
        "outputId": "98b92777-0fb7-429f-a026-f4ba3ec32554"
      },
      "source": [
        "#exercicio 14\n",
        "def ÉPalindromo(palavra):\n",
        "  if str(palavra) == str(palavra)[::-1] :\n",
        "      return(\"É palindromo\")\n",
        "  else:\n",
        "      return(\"Não é palindromo\")\n",
        "print(ÉPalindromo(\"ana\"))"
      ],
      "execution_count": 93,
      "outputs": [
        {
          "output_type": "stream",
          "name": "stdout",
          "text": [
            "É palindromo\n"
          ]
        }
      ]
    }
  ]
}